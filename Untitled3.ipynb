{
  "nbformat": 4,
  "nbformat_minor": 0,
  "metadata": {
    "colab": {
      "provenance": [],
      "toc_visible": true,
      "authorship_tag": "ABX9TyNbQ03M0hV/slkqY779z8hu",
      "include_colab_link": true
    },
    "kernelspec": {
      "name": "python3",
      "display_name": "Python 3"
    },
    "language_info": {
      "name": "python"
    }
  },
  "cells": [
    {
      "cell_type": "markdown",
      "metadata": {
        "id": "view-in-github",
        "colab_type": "text"
      },
      "source": [
        "<a href=\"https://colab.research.google.com/github/Josemarchan10/entregas/blob/main/Untitled3.ipynb\" target=\"_parent\"><img src=\"https://colab.research.google.com/assets/colab-badge.svg\" alt=\"Open In Colab\"/></a>"
      ]
    },
    {
      "cell_type": "code",
      "execution_count": null,
      "metadata": {
        "colab": {
          "base_uri": "https://localhost:8080/"
        },
        "id": "Z4XRjI7878Ua",
        "outputId": "6098290f-20c8-413f-ee06-57a1bd014c67"
      },
      "outputs": [
        {
          "output_type": "stream",
          "name": "stdout",
          "text": [
            "El valor de pi es: 3.14147128 para n 100000000\n"
          ]
        }
      ],
      "source": [
        "#!/usr/bin/env python\n",
        "\n",
        "#Se importa el modulo numpy\n",
        "\n",
        "import numpy as np\n",
        "\n",
        "\n",
        "\n",
        "\n",
        "\n",
        "def pi(n, batch=1000):\n",
        "\n",
        "    t = 0\n",
        "\n",
        "    for i in range(n // batch):\n",
        "\n",
        "        p = np.random.rand(batch, 2)\n",
        "\n",
        "        p = (p * p).sum(axis=1)\n",
        "\n",
        "        t += (p <= 1).sum()\n",
        "\n",
        "    return 4 * float(t) / n\n",
        "\n",
        "\n",
        "\n",
        "\n",
        "\n",
        "if __name__ == \"__main__\":\n",
        "\n",
        "    print (\"El valor de pi es: {0:2.8f} para n {1}\".format(pi(10**8),10**8))"
      ]
    }
  ]
}